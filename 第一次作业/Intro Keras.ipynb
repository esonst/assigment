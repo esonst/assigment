{
 "cells": [
  {
   "cell_type": "markdown",
   "metadata": {
    "collapsed": true
   },
   "source": [
    "# Training Neural Networks with Keras\n",
    "\n",
    "### Goals: \n",
    "- Intro: train a neural network with high level framework `Keras`\n",
    "\n",
    "### Dataset:\n",
    "- Digits: 10 class handwritten digits\n",
    "- http://scikit-learn.org/stable/modules/generated/sklearn.datasets.load_digits.html#sklearn.datasets.load_digits"
   ]
  },
  {
   "cell_type": "code",
   "execution_count": 1,
   "metadata": {},
   "outputs": [],
   "source": [
    "%matplotlib inline \n",
    "# display figures in the notebook\n",
    "import matplotlib.pyplot as plt\n",
    "import numpy as np\n",
    "from sklearn.datasets import load_digits\n",
    "\n",
    "digits = load_digits()"
   ]
  },
  {
   "cell_type": "code",
   "execution_count": 2,
   "metadata": {},
   "outputs": [
    {
     "data": {
      "image/png": "[encoded data removed]",
      "text/plain": [
       "<Figure size 216x216 with 1 Axes>"
      ]
     },
     "metadata": {
      "needs_background": "light"
     },
     "output_type": "display_data"
    }
   ],
   "source": [
    "sample_index = 45\n",
    "plt.figure(figsize=(3, 3))\n",
    "plt.imshow(digits.images[sample_index], cmap=plt.cm.gray_r,\n",
    "           interpolation='nearest')\n",
    "plt.title(\"image label: %d\" % digits.target[sample_index]);"
   ]
  },
  {
   "cell_type": "markdown",
   "metadata": {},
   "source": [
    "### Preprocessing\n",
    "\n",
    "- normalization\n",
    "- train/test split"
   ]
  },
  {
   "cell_type": "code",
   "execution_count": 3,
   "metadata": {},
   "outputs": [],
   "source": [
    "from sklearn import preprocessing\n",
    "from sklearn.model_selection import train_test_split\n",
    "\n",
    "data = np.asarray(digits.data, dtype='float32')\n",
    "target = np.asarray(digits.target, dtype='int32')\n",
    "\n",
    "X_train, X_test, y_train, y_test = train_test_split(\n",
    "    data, target, test_size=0.15, random_state=37)\n",
    "\n",
    "# mean = 0 ; standard deviation = 1.0\n",
    "scaler = preprocessing.StandardScaler()\n",
    "X_train = scaler.fit_transform(X_train)\n",
    "X_test = scaler.transform(X_test)\n",
    "\n",
    "# print(scaler.mean_)\n",
    "# print(scaler.scale_)"
   ]
  },
  {
   "cell_type": "code",
   "execution_count": 4,
   "metadata": {},
   "outputs": [],
   "source": [
    "#print(scaler.mean_)\n",
    "#print(scaler.scale_)"
   ]
  },
  {
   "cell_type": "markdown",
   "metadata": {},
   "source": [
    "Let's display the one of the transformed sample (after feature standardization):"
   ]
  },
  {
   "cell_type": "code",
   "execution_count": 5,
   "metadata": {},
   "outputs": [
    {
     "data": {
      "image/png": "[encoded data removed]",
      "text/plain": [
       "<Figure size 216x216 with 1 Axes>"
      ]
     },
     "metadata": {
      "needs_background": "light"
     },
     "output_type": "display_data"
    }
   ],
   "source": [
    "sample_index = 45\n",
    "plt.figure(figsize=(3, 3))\n",
    "plt.imshow(X_train[sample_index].reshape(8, 8),\n",
    "           cmap=plt.cm.gray_r, interpolation='nearest')\n",
    "plt.title(\"transformed sample\\n(standardization)\");"
   ]
  },
  {
   "cell_type": "markdown",
   "metadata": {},
   "source": [
    "The scaler objects makes it possible to recover the original sample:"
   ]
  },
  {
   "cell_type": "code",
   "execution_count": 6,
   "metadata": {},
   "outputs": [
    {
     "data": {
      "image/png": "[encoded data removed]",
      "text/plain": [
       "<Figure size 216x216 with 1 Axes>"
      ]
     },
     "metadata": {
      "needs_background": "light"
     },
     "output_type": "display_data"
    }
   ],
   "source": [
    "plt.figure(figsize=(3, 3))\n",
    "plt.imshow(scaler.inverse_transform(X_train[sample_index]).reshape(8, 8),\n",
    "           cmap=plt.cm.gray_r, interpolation='nearest')\n",
    "plt.title(\"original sample\");"
   ]
  },
  {
   "cell_type": "code",
   "execution_count": 7,
   "metadata": {},
   "outputs": [
    {
     "name": "stdout",
     "output_type": "stream",
     "text": [
      "(1527, 64) (1527,)\n"
     ]
    }
   ],
   "source": [
    "print(X_train.shape, y_train.shape)"
   ]
  },
  {
   "cell_type": "code",
   "execution_count": 8,
   "metadata": {},
   "outputs": [
    {
     "name": "stdout",
     "output_type": "stream",
     "text": [
      "(270, 64) (270,)\n"
     ]
    }
   ],
   "source": [
    "print(X_test.shape, y_test.shape)"
   ]
  },
  {
   "cell_type": "markdown",
   "metadata": {},
   "source": [
    "# I) Feed Forward NN with Keras\n",
    "\n",
    "Objectives of this section:\n",
    "\n",
    "- Build and train a first feedforward network using `Keras`\n",
    "    - https://keras.io/getting-started/sequential-model-guide/\n",
    "- Experiment with different optimizers, activations, size of layers, initializations\n",
    "\n",
    "### a) Keras Workflow"
   ]
  },
  {
   "cell_type": "markdown",
   "metadata": {},
   "source": [
    "To build a first neural network we need to turn the target variable into a vector \"one-hot-encoding\" representation. Here are the labels of the first samples in the training set encoded as integers:"
   ]
  },
  {
   "cell_type": "code",
   "execution_count": 9,
   "metadata": {},
   "outputs": [
    {
     "data": {
      "text/plain": [
       "array([2, 9, 5])"
      ]
     },
     "execution_count": 9,
     "metadata": {},
     "output_type": "execute_result"
    }
   ],
   "source": [
    "y_train[:3]"
   ]
  },
  {
   "cell_type": "markdown",
   "metadata": {},
   "source": [
    "Keras provides a utility function to convert integer-encoded categorical variables as one-hot encoded values:"
   ]
  },
  {
   "cell_type": "code",
   "execution_count": 10,
   "metadata": {},
   "outputs": [
    {
     "name": "stderr",
     "output_type": "stream",
     "text": [
      "Using TensorFlow backend.\n"
     ]
    },
    {
     "data": {
      "text/plain": [
       "array([[0., 0., 1., 0., 0., 0., 0., 0., 0., 0.],\n",
       "       [0., 0., 0., 0., 0., 0., 0., 0., 0., 1.],\n",
       "       [0., 0., 0., 0., 0., 1., 0., 0., 0., 0.]], dtype=float32)"
      ]
     },
     "execution_count": 10,
     "metadata": {},
     "output_type": "execute_result"
    }
   ],
   "source": [
    "import keras\n",
    "from keras.utils.np_utils import to_categorical\n",
    "\n",
    "Y_train = to_categorical(y_train)\n",
    "Y_train[:3]"
   ]
  },
  {
   "cell_type": "markdown",
   "metadata": {},
   "source": [
    "We can now build an train a our first feed forward neural network using the high level API from keras:\n",
    "\n",
    "- first we define the model by stacking layers with the right dimensions\n",
    "- then we define a loss function and plug the SGD optimizer\n",
    "- then we feed the model the training data for fixed number of epochs"
   ]
  },
  {
   "cell_type": "code",
   "execution_count": 11,
   "metadata": {},
   "outputs": [
    {
     "name": "stdout",
     "output_type": "stream",
     "text": [
      "Epoch 1/15\n",
      "1527/1527 [==============================] - 2s 1ms/step - loss: 0.8257 - acc: 0.7839\n",
      "Epoch 2/15\n",
      "1527/1527 [==============================] - 0s 59us/step - loss: 0.2881 - acc: 0.9384\n",
      "Epoch 3/15\n",
      "1527/1527 [==============================] - 0s 58us/step - loss: 0.1964 - acc: 0.9614\n",
      "Epoch 4/15\n",
      "1527/1527 [==============================] - 0s 59us/step - loss: 0.1532 - acc: 0.9705\n",
      "Epoch 5/15\n",
      "1527/1527 [==============================] - 0s 59us/step - loss: 0.1259 - acc: 0.9790\n",
      "Epoch 6/15\n",
      "1527/1527 [==============================] - 0s 59us/step - loss: 0.1076 - acc: 0.9823\n",
      "Epoch 7/15\n",
      "1527/1527 [==============================] - 0s 61us/step - loss: 0.0936 - acc: 0.9836\n",
      "Epoch 8/15\n",
      "1527/1527 [==============================] - 0s 59us/step - loss: 0.0827 - acc: 0.9862\n",
      "Epoch 9/15\n",
      "1527/1527 [==============================] - 0s 59us/step - loss: 0.0743 - acc: 0.9882\n",
      "Epoch 10/15\n",
      "1527/1527 [==============================] - 0s 59us/step - loss: 0.0673 - acc: 0.9902\n",
      "Epoch 11/15\n",
      "1527/1527 [==============================] - 0s 59us/step - loss: 0.0613 - acc: 0.9921\n",
      "Epoch 12/15\n",
      "1527/1527 [==============================] - 0s 61us/step - loss: 0.0560 - acc: 0.9928\n",
      "Epoch 13/15\n",
      "1527/1527 [==============================] - 0s 59us/step - loss: 0.0515 - acc: 0.9941\n",
      "Epoch 14/15\n",
      "1527/1527 [==============================] - 0s 59us/step - loss: 0.0478 - acc: 0.9941\n",
      "Epoch 15/15\n",
      "1527/1527 [==============================] - 0s 61us/step - loss: 0.0443 - acc: 0.9941\n"
     ]
    }
   ],
   "source": [
    "from keras.models import Sequential\n",
    "from keras.layers.core import Dense, Activation\n",
    "from keras import optimizers\n",
    "\n",
    "N = X_train.shape[1]\n",
    "H = 100\n",
    "K = 10\n",
    "\n",
    "model = Sequential()\n",
    "model.add(Dense(H, input_dim=N))\n",
    "model.add(Activation(\"tanh\"))\n",
    "model.add(Dense(K))\n",
    "model.add(Activation(\"softmax\"))\n",
    "\n",
    "model.compile(optimizer=optimizers.SGD(lr=0.1),\n",
    "              loss='categorical_crossentropy', metrics=['accuracy'])\n",
    "\n",
    "model.fit(X_train, Y_train, epochs=15, batch_size=32);"
   ]
  },
  {
   "cell_type": "markdown",
   "metadata": {},
   "source": [
    "### b) Exercises: Impact of the Optimizer\n",
    "\n",
    "- Try to decrease the learning rate value by 10 or 100. What do you observe?\n",
    "\n",
    "- Try to increase the learning rate value to make the optimization diverge.\n",
    "\n",
    "- Configure the SGD optimizer to enable a Nesterov momentum of 0.9\n",
    "  \n",
    "Note that the keras API documentation is available at:\n",
    "\n",
    "https://keras.io/\n",
    "\n",
    "It is also possible to learn more about the parameters of a class by using the question mark: type and evaluate:\n",
    "\n",
    "```python\n",
    "optimizers.SGD?\n",
    "```\n",
    "\n",
    "in a jupyter notebook cell."
   ]
  },
  {
   "cell_type": "code",
   "execution_count": 12,
   "metadata": {},
   "outputs": [
    {
     "name": "stdout",
     "output_type": "stream",
     "text": [
      "Epoch 1/15\n",
      "1527/1527 [==============================] - 0s 125us/step - loss: 0.0539 - acc: 0.9869\n",
      "Epoch 2/15\n",
      "1527/1527 [==============================] - 0s 59us/step - loss: 0.0402 - acc: 0.9882\n",
      "Epoch 3/15\n",
      "1527/1527 [==============================] - 0s 59us/step - loss: 0.0181 - acc: 0.9980\n",
      "Epoch 4/15\n",
      "1527/1527 [==============================] - 0s 60us/step - loss: 0.0109 - acc: 0.9993\n",
      "Epoch 5/15\n",
      "1527/1527 [==============================] - 0s 59us/step - loss: 0.0074 - acc: 1.0000\n",
      "Epoch 6/15\n",
      "1527/1527 [==============================] - 0s 59us/step - loss: 0.0058 - acc: 1.0000\n",
      "Epoch 7/15\n",
      "1527/1527 [==============================] - 0s 59us/step - loss: 0.0047 - acc: 1.0000\n",
      "Epoch 8/15\n",
      "1527/1527 [==============================] - 0s 61us/step - loss: 0.0041 - acc: 1.0000\n",
      "Epoch 9/15\n",
      "1527/1527 [==============================] - 0s 60us/step - loss: 0.0036 - acc: 1.0000\n",
      "Epoch 10/15\n",
      "1527/1527 [==============================] - 0s 59us/step - loss: 0.0032 - acc: 1.0000\n",
      "Epoch 11/15\n",
      "1527/1527 [==============================] - 0s 60us/step - loss: 0.0029 - acc: 1.0000\n",
      "Epoch 12/15\n",
      "1527/1527 [==============================] - 0s 62us/step - loss: 0.0026 - acc: 1.0000\n",
      "Epoch 13/15\n",
      "1527/1527 [==============================] - 0s 60us/step - loss: 0.0024 - acc: 1.0000\n",
      "Epoch 14/15\n",
      "1527/1527 [==============================] - 0s 60us/step - loss: 0.0023 - acc: 1.0000\n",
      "Epoch 15/15\n",
      "1527/1527 [==============================] - 0s 62us/step - loss: 0.0021 - acc: 1.0000\n"
     ]
    },
    {
     "data": {
      "text/plain": [
       "<keras.callbacks.History at 0x22ecc0dbda0>"
      ]
     },
     "execution_count": 12,
     "metadata": {},
     "output_type": "execute_result"
    }
   ],
   "source": [
    "model.compile(optimizer=optimizers.SGD(lr=0.1,momentum=0.9),\n",
    "              loss='categorical_crossentropy', metrics=['accuracy'])\n",
    "model.fit(X_train, Y_train, epochs=15, batch_size=32)"
   ]
  },
  {
   "cell_type": "code",
   "execution_count": 14,
   "metadata": {},
   "outputs": [],
   "source": [
    "# %load solutions/keras_sgd_and_momentum.py"
   ]
  },
  {
   "cell_type": "markdown",
   "metadata": {},
   "source": [
    "- Replace the SGD optimizer by the Adam optimizer from keras and run it\n",
    "  with the default parameters.\n",
    "\n",
    "- Add another hidden layer and use the \"Rectified Linear Unit\" for each\n",
    "  hidden layer. Can you still train the model with Adam with its default global\n",
    "  learning rate?\n",
    "\n",
    "- Bonus: try the Adadelta optimizer (no learning rate to set).\n",
    "\n",
    "Hint: use `optimizers.<TAB>` to tab-complete the list of implemented optimizers in Keras."
   ]
  },
  {
   "cell_type": "code",
   "execution_count": 13,
   "metadata": {},
   "outputs": [
    {
     "name": "stdout",
     "output_type": "stream",
     "text": [
      "Epoch 1/15\n",
      "1527/1527 [==============================] - 0s 162us/step - loss: 0.0024 - acc: 1.0000\n",
      "Epoch 2/15\n",
      "1527/1527 [==============================] - 0s 67us/step - loss: 0.0016 - acc: 1.0000\n",
      "Epoch 3/15\n",
      "1527/1527 [==============================] - 0s 68us/step - loss: 0.0013 - acc: 1.0000\n",
      "Epoch 4/15\n",
      "1527/1527 [==============================] - 0s 69us/step - loss: 0.0011 - acc: 1.0000\n",
      "Epoch 5/15\n",
      "1527/1527 [==============================] - 0s 68us/step - loss: 9.0088e-04 - acc: 1.0000\n",
      "Epoch 6/15\n",
      "1527/1527 [==============================] - 0s 66us/step - loss: 7.7533e-04 - acc: 1.0000\n",
      "Epoch 7/15\n",
      "1527/1527 [==============================] - 0s 73us/step - loss: 6.7501e-04 - acc: 1.0000\n",
      "Epoch 8/15\n",
      "1527/1527 [==============================] - 0s 66us/step - loss: 5.7092e-04 - acc: 1.0000\n",
      "Epoch 9/15\n",
      "1527/1527 [==============================] - 0s 67us/step - loss: 5.0815e-04 - acc: 1.0000\n",
      "Epoch 10/15\n",
      "1527/1527 [==============================] - 0s 67us/step - loss: 4.4811e-04 - acc: 1.0000\n",
      "Epoch 11/15\n",
      "1527/1527 [==============================] - 0s 67us/step - loss: 3.9934e-04 - acc: 1.0000\n",
      "Epoch 12/15\n",
      "1527/1527 [==============================] - 0s 66us/step - loss: 3.6500e-04 - acc: 1.0000\n",
      "Epoch 13/15\n",
      "1527/1527 [==============================] - 0s 71us/step - loss: 3.2392e-04 - acc: 1.0000\n",
      "Epoch 14/15\n",
      "1527/1527 [==============================] - 0s 69us/step - loss: 2.8686e-04 - acc: 1.0000\n",
      "Epoch 15/15\n",
      "1527/1527 [==============================] - 0s 65us/step - loss: 2.6472e-04 - acc: 1.0000\n"
     ]
    },
    {
     "data": {
      "text/plain": [
       "<keras.callbacks.History at 0x22ee74dc748>"
      ]
     },
     "execution_count": 13,
     "metadata": {},
     "output_type": "execute_result"
    }
   ],
   "source": [
    "model.compile(optimizer=optimizers.Adam(),\n",
    "              loss='categorical_crossentropy', metrics=['accuracy'])\n",
    "model.fit(X_train, Y_train, epochs=15, batch_size=32)"
   ]
  },
  {
   "cell_type": "code",
   "execution_count": 15,
   "metadata": {},
   "outputs": [],
   "source": [
    "# %load solutions/keras_adam_and_adadelta.py"
   ]
  },
  {
   "cell_type": "markdown",
   "metadata": {},
   "source": [
    "### c) Exercises: forward pass and generalization\n",
    "\n",
    "- Compute predictions on test set using `model.predict_classes(...)`\n",
    "- Compute average accuracy of the model on the test set"
   ]
  },
  {
   "cell_type": "code",
   "execution_count": 34,
   "metadata": {},
   "outputs": [
    {
     "name": "stdout",
     "output_type": "stream",
     "text": [
      "The accuracy is 98.15%\n"
     ]
    }
   ],
   "source": [
    "Y_test=model.predict_classes(X_test)\n",
    "acc=sum([Y_test[i]==y_test[i] for i in range(y_test.size)])/y_test.size*100\n",
    "print('The accuracy is %.2f%%'%float(acc))"
   ]
  },
  {
   "cell_type": "code",
   "execution_count": 17,
   "metadata": {},
   "outputs": [],
   "source": [
    "# %load solutions/keras_accuracy_on_test_set.py"
   ]
  },
  {
   "cell_type": "markdown",
   "metadata": {},
   "source": [
    "## d) Home assignment: impact of initialization\n",
    "\n",
    "Let us now study the impact of a bad initialization when training\n",
    "a deep feed forward network.\n",
    "\n",
    "By default Keras dense layers use the \"Glorot Uniform\" initialization\n",
    "strategy to initialize the weight matrices:\n",
    "\n",
    "- each weight coefficient is randomly sampled from [-scale, scale]\n",
    "- scale is proportional to $\\frac{1}{\\sqrt{n_{in} + n_{out}}}$\n",
    "\n",
    "This strategy is known to work well to initialize deep neural networks\n",
    "with \"tanh\" or \"relu\" activation functions and then trained with\n",
    "standard SGD.\n",
    "\n",
    "To assess the impact of initialization let us plug an alternative init\n",
    "scheme into a 2 hidden layers networks with \"tanh\" activations.\n",
    "For the sake of the example let's use normal distributed weights\n",
    "with a manually adjustable scale (standard deviation) and see the\n",
    "impact the scale value:"
   ]
  },
  {
   "cell_type": "code",
   "execution_count": 38,
   "metadata": {},
   "outputs": [
    {
     "name": "stdout",
     "output_type": "stream",
     "text": [
      "Epoch 1/10\n",
      "1527/1527 [==============================] - 0s 182us/step - loss: 2.3036\n",
      "Epoch 2/10\n",
      "1527/1527 [==============================] - 0s 63us/step - loss: 2.3030\n",
      "Epoch 3/10\n",
      "1527/1527 [==============================] - 0s 67us/step - loss: 2.3032\n",
      "Epoch 4/10\n",
      "1527/1527 [==============================] - 0s 63us/step - loss: 2.3031\n",
      "Epoch 5/10\n",
      "1527/1527 [==============================] - 0s 64us/step - loss: 2.3031\n",
      "Epoch 6/10\n",
      "1527/1527 [==============================] - 0s 65us/step - loss: 2.3030\n",
      "Epoch 7/10\n",
      "1527/1527 [==============================] - 0s 65us/step - loss: 2.3029\n",
      "Epoch 8/10\n",
      "1527/1527 [==============================] - 0s 65us/step - loss: 2.3029\n",
      "Epoch 9/10\n",
      "1527/1527 [==============================] - 0s 63us/step - loss: 2.3030\n",
      "Epoch 10/10\n",
      "1527/1527 [==============================] - 0s 67us/step - loss: 2.3029\n"
     ]
    }
   ],
   "source": [
    "from keras import initializers\n",
    "\n",
    "normal_init = initializers.RandomNormal(stddev=0.001)\n",
    "\n",
    "model = Sequential()\n",
    "model.add(Dense(H, input_dim=N, kernel_initializer=normal_init))\n",
    "model.add(Activation(\"tanh\"))\n",
    "model.add(Dense(K, kernel_initializer=normal_init))\n",
    "model.add(Activation(\"tanh\"))\n",
    "model.add(Dense(K, kernel_initializer=normal_init))\n",
    "model.add(Activation(\"softmax\"))\n",
    "\n",
    "model.compile(optimizer=optimizers.SGD(lr=0.1),\n",
    "              loss='categorical_crossentropy')\n",
    "\n",
    "history = model.fit(X_train, Y_train,\n",
    "                    epochs=10, batch_size=32)"
   ]
  },
  {
   "cell_type": "markdown",
   "metadata": {},
   "source": [
    "#### Questions:\n",
    "\n",
    "- Try the following initialization schemes and see whether\n",
    "  the SGD algorithm can successfully train the network or\n",
    "  not:\n",
    "  \n",
    "  - a very small e.g. `scale=1e-3`\n",
    "  - a larger scale e.g. `scale=1` or `10`\n",
    "  - initialize all weights to 0 (constant initialization)\n",
    "  \n",
    "- What do you observe? Can you find an explanation for those\n",
    "  outcomes?\n",
    "\n",
    "- Are better solvers such as SGD with momentum or Adam able\n",
    "  to deal better with such bad initializations?"
   ]
  },
  {
   "cell_type": "code",
   "execution_count": 39,
   "metadata": {},
   "outputs": [
    {
     "name": "stdout",
     "output_type": "stream",
     "text": [
      "Epoch 1/10\n",
      "1527/1527 [==============================] - 0s 227us/step - loss: 3.2562\n",
      "Epoch 2/10\n",
      "1527/1527 [==============================] - 0s 65us/step - loss: 1.7677\n",
      "Epoch 3/10\n",
      "1527/1527 [==============================] - 0s 65us/step - loss: 1.3038\n",
      "Epoch 4/10\n",
      "1527/1527 [==============================] - 0s 65us/step - loss: 1.0753\n",
      "Epoch 5/10\n",
      "1527/1527 [==============================] - 0s 65us/step - loss: 0.9383\n",
      "Epoch 6/10\n",
      "1527/1527 [==============================] - 0s 67us/step - loss: 0.8424\n",
      "Epoch 7/10\n",
      "1527/1527 [==============================] - 0s 65us/step - loss: 0.7720\n",
      "Epoch 8/10\n",
      "1527/1527 [==============================] - 0s 65us/step - loss: 0.7191\n",
      "Epoch 9/10\n",
      "1527/1527 [==============================] - 0s 66us/step - loss: 0.6770\n",
      "Epoch 10/10\n",
      "1527/1527 [==============================] - 0s 67us/step - loss: 0.6336\n"
     ]
    }
   ],
   "source": [
    "# %load solutions/keras_initializations.py\n",
    "from keras import initializers\n",
    "\n",
    "normal_init = initializers.RandomNormal(stddev=1)\n",
    "\n",
    "model = Sequential()\n",
    "model.add(Dense(H, input_dim=N, kernel_initializer=normal_init))\n",
    "model.add(Activation(\"tanh\"))\n",
    "model.add(Dense(K, kernel_initializer=normal_init))\n",
    "model.add(Activation(\"tanh\"))\n",
    "model.add(Dense(K, kernel_initializer=normal_init))\n",
    "model.add(Activation(\"softmax\"))\n",
    "\n",
    "model.compile(optimizer=optimizers.SGD(lr=0.1),\n",
    "              loss='categorical_crossentropy')\n",
    "\n",
    "history = model.fit(X_train, Y_train,\n",
    "                    epochs=10, batch_size=32)"
   ]
  },
  {
   "cell_type": "code",
   "execution_count": 40,
   "metadata": {},
   "outputs": [
    {
     "name": "stdout",
     "output_type": "stream",
     "text": [
      "Epoch 1/10\n",
      "1527/1527 [==============================] - 0s 191us/step - loss: 13.4234\n",
      "Epoch 2/10\n",
      "1527/1527 [==============================] - 0s 64us/step - loss: 13.3472\n",
      "Epoch 3/10\n",
      "1527/1527 [==============================] - 0s 65us/step - loss: 13.3153\n",
      "Epoch 4/10\n",
      "1527/1527 [==============================] - 0s 64us/step - loss: 13.3074\n",
      "Epoch 5/10\n",
      "1527/1527 [==============================] - 0s 64us/step - loss: 13.2858\n",
      "Epoch 6/10\n",
      "1527/1527 [==============================] - 0s 63us/step - loss: 13.2836\n",
      "Epoch 7/10\n",
      "1527/1527 [==============================] - 0s 67us/step - loss: 13.2719\n",
      "Epoch 8/10\n",
      "1527/1527 [==============================] - 0s 66us/step - loss: 13.2595\n",
      "Epoch 9/10\n",
      "1527/1527 [==============================] - 0s 63us/step - loss: 13.2567\n",
      "Epoch 10/10\n",
      "1527/1527 [==============================] - 0s 65us/step - loss: 13.2462\n"
     ]
    }
   ],
   "source": [
    "# %load solutions/keras_initializations_analysis.py\n",
    "from keras import initializers\n",
    "\n",
    "normal_init = initializers.RandomNormal(stddev=10)\n",
    "\n",
    "model = Sequential()\n",
    "model.add(Dense(H, input_dim=N, kernel_initializer=normal_init))\n",
    "model.add(Activation(\"tanh\"))\n",
    "model.add(Dense(K, kernel_initializer=normal_init))\n",
    "model.add(Activation(\"tanh\"))\n",
    "model.add(Dense(K, kernel_initializer=normal_init))\n",
    "model.add(Activation(\"softmax\"))\n",
    "\n",
    "model.compile(optimizer=optimizers.SGD(lr=0.1),\n",
    "              loss='categorical_crossentropy')\n",
    "\n",
    "history = model.fit(X_train, Y_train,\n",
    "                    epochs=10, batch_size=32)"
   ]
  },
  {
   "cell_type": "code",
   "execution_count": null,
   "metadata": {},
   "outputs": [],
   "source": []
  }
 ],
 "metadata": {
  "kernelspec": {
   "display_name": "Python 3",
   "language": "python",
   "name": "python3"
  },
  "language_info": {
   "codemirror_mode": {
    "name": "ipython",
    "version": 3
   },
   "file_extension": ".py",
   "mimetype": "text/x-python",
   "name": "python",
   "nbconvert_exporter": "python",
   "pygments_lexer": "ipython3",
   "version": "3.5.3"
  },
  "latex_envs": {
   "LaTeX_envs_menu_present": true,
   "autoclose": false,
   "autocomplete": true,
   "bibliofile": "biblio.bib",
   "cite_by": "apalike",
   "current_citInitial": 1,
   "eqLabelWithNumbers": true,
   "eqNumInitial": 1,
   "hotkeys": {
    "equation": "Ctrl-E",
    "itemize": "Ctrl-I"
   },
   "labels_anchors": false,
   "latex_user_defs": false,
   "report_style_numbering": false,
   "user_envs_cfg": false
  },
  "nbTranslate": {
   "displayLangs": [
    "*"
   ],
   "hotkey": "alt-t",
   "langInMainMenu": true,
   "sourceLang": "en",
   "targetLang": "fr",
   "useGoogleTranslate": true
  },
  "varInspector": {
   "cols": {
    "lenName": 16,
    "lenType": 16,
    "lenVar": 40
   },
   "kernels_config": {
    "python": {
     "delete_cmd_postfix": "",
     "delete_cmd_prefix": "del ",
     "library": "var_list.py",
     "varRefreshCmd": "print(var_dic_list())"
    },
    "r": {
     "delete_cmd_postfix": ") ",
     "delete_cmd_prefix": "rm(",
     "library": "var_list.r",
     "varRefreshCmd": "cat(var_dic_list()) "
    }
   },
   "types_to_exclude": [
    "module",
    "function",
    "builtin_function_or_method",
    "instance",
    "_Feature"
   ],
   "window_display": false
  }
 },
 "nbformat": 4,
 "nbformat_minor": 1
}
